{
 "cells": [
  {
   "cell_type": "markdown",
   "id": "1249c67b",
   "metadata": {},
   "source": [
    "## Analisi Performance Inverted Index Distribuito"
   ]
  },
  {
   "cell_type": "markdown",
   "id": "7059b658",
   "metadata": {},
   "source": [
    "### Installazione Librerie"
   ]
  },
  {
   "cell_type": "code",
   "execution_count": 1,
   "id": "58f03968-2a1e-46c6-beae-4821c632b937",
   "metadata": {},
   "outputs": [
    {
     "name": "stdout",
     "output_type": "stream",
     "text": [
      "Requirement already satisfied: elasticsearch in /opt/conda/lib/python3.11/site-packages (8.15.0)\n",
      "Requirement already satisfied: elastic-transport<9,>=8.13 in /opt/conda/lib/python3.11/site-packages (from elasticsearch) (8.15.0)\n",
      "Requirement already satisfied: urllib3<3,>=1.26.2 in /opt/conda/lib/python3.11/site-packages (from elastic-transport<9,>=8.13->elasticsearch) (2.0.7)\n",
      "Requirement already satisfied: certifi in /opt/conda/lib/python3.11/site-packages (from elastic-transport<9,>=8.13->elasticsearch) (2023.7.22)\n",
      "Requirement already satisfied: tqdm in /opt/conda/lib/python3.11/site-packages (4.66.1)\n"
     ]
    }
   ],
   "source": [
    "\n",
    "!pip install elasticsearch\n",
    "!pip install tqdm"
   ]
  },
  {
   "cell_type": "markdown",
   "id": "94901096",
   "metadata": {},
   "source": [
    "### Connessione ad Elastic Search"
   ]
  },
  {
   "cell_type": "code",
   "execution_count": 2,
   "id": "fc44b040-9a0f-4242-aec3-d69ce3d6ee4a",
   "metadata": {},
   "outputs": [
    {
     "name": "stdout",
     "output_type": "stream",
     "text": [
      "Connected to Elasticsearch\n"
     ]
    }
   ],
   "source": [
    "# Importazione librerie\n",
    "from elasticsearch import Elasticsearch\n",
    "from elasticsearch.helpers import bulk\n",
    "from tqdm import tqdm\n",
    "import json\n",
    "\n",
    "# Configurazione connessione Elasticsearch\n",
    "ELASTIC_ENDPOINT = \"elasticsearch\"\n",
    "ELASTIC_ENDPOINT_PORT = 9200\n",
    "ELASTIC_INDEX_NAME = \"comuni\"\n",
    "ELASTICSEARCH_USERNAME = \"progettoArchi\"\n",
    "ELASTICSEARCH_PASSWORD = \"progettoArchi\"\n",
    "\n",
    "client_elastic = Elasticsearch(\n",
    "    hosts=f\"http://{ELASTIC_ENDPOINT}:{int(ELASTIC_ENDPOINT_PORT)}\", \n",
    "    request_timeout=60, \n",
    "    max_retries=10, \n",
    "    retry_on_timeout=True, \n",
    "    basic_auth=(ELASTICSEARCH_USERNAME, ELASTICSEARCH_PASSWORD)\n",
    ")\n",
    "\n",
    "# Verifica della connessione\n",
    "if not client_elastic.ping():\n",
    "    raise ValueError(\"Connection to Elasticsearch failed\")\n",
    "else:\n",
    "    print(\"Connected to Elasticsearch\")"
   ]
  },
  {
   "cell_type": "markdown",
   "id": "1ec159ad",
   "metadata": {},
   "source": [
    "### Creazione indice per i comuni"
   ]
  },
  {
   "cell_type": "code",
   "execution_count": 3,
   "id": "1727ef8d-6b0d-488d-a8dc-4711382197c8",
   "metadata": {},
   "outputs": [
    {
     "name": "stderr",
     "output_type": "stream",
     "text": [
      "100%|██████████| 7904/7904 [00:04<00:00, 1829.19it/s]"
     ]
    },
    {
     "name": "stdout",
     "output_type": "stream",
     "text": [
      "Data indexed successfully\n"
     ]
    },
    {
     "name": "stderr",
     "output_type": "stream",
     "text": [
      "\n"
     ]
    }
   ],
   "source": [
    "# Definizione del mapping e delle impostazioni dell'indice\n",
    "settings = {\n",
    "    \"index\": {\n",
    "        \"number_of_shards\": 1,\n",
    "        \"number_of_replicas\": 1, #replica la shard per contrastare gli errori \n",
    "        \"similarity\": {\n",
    "            \"my_similarity\": {\n",
    "                \"type\": \"IB\",\n",
    "                \"distribution\": \"ll\",\n",
    "                \"lambda\": \"df\",\n",
    "                \"normalization\": \"h2\",\n",
    "                \"normalization.h2.c\": \"1.0\"\n",
    "            }\n",
    "        }\n",
    "    },\n",
    "    \"analysis\": {\n",
    "        \"filter\": {\n",
    "            \"trigrams_filter\": {\n",
    "                \"type\": \"ngram\",\n",
    "                \"min_gram\": 3,\n",
    "                \"max_gram\": 3\n",
    "            }\n",
    "        },\n",
    "        \"analyzer\": {\n",
    "            \"trigrams\": {\n",
    "                \"type\": \"custom\",\n",
    "                \"tokenizer\": \"whitespace\",\n",
    "                \"filter\": [\n",
    "                    \"lowercase\",\n",
    "                    \"trigrams_filter\"\n",
    "                ]\n",
    "            },\n",
    "            \"my_analyzer\": {\n",
    "                \"type\": \"custom\",\n",
    "                \"tokenizer\": \"whitespace\",\n",
    "                \"filter\": [\n",
    "                    \"lowercase\"\n",
    "                ]\n",
    "            }\n",
    "        }\n",
    "    }\n",
    "}\n",
    "\n",
    "mappings =  {\n",
    "    \"properties\": {\n",
    "        \"nome\": {\"type\": \"text\", \"analyzer\": \"my_analyzer\"},\n",
    "        \"codice\": {\"type\": \"keyword\"},\n",
    "        \"zona\": {\n",
    "            \"properties\": {\n",
    "                \"codice\": {\"type\": \"keyword\"},\n",
    "                \"nome\": {\"type\": \"text\"}\n",
    "            }\n",
    "        },\n",
    "        \"regione\": {\n",
    "            \"properties\": {\n",
    "                \"codice\": {\"type\": \"keyword\"},\n",
    "                \"nome\": {\"type\": \"text\"}\n",
    "            }\n",
    "        },\n",
    "        \"provincia\": {\n",
    "            \"properties\": {\n",
    "                \"codice\": {\"type\": \"keyword\"},\n",
    "                \"nome\": {\"type\": \"text\"}\n",
    "            }\n",
    "        },\n",
    "        \"sigla\": {\"type\": \"keyword\"},\n",
    "        \"codiceCatastale\": {\"type\": \"keyword\"},\n",
    "        \"cap\": {\"type\": \"keyword\"},\n",
    "        \"popolazione\": {\"type\": \"integer\"}\n",
    "    }\n",
    "}\n",
    "\n",
    "MAPPING = {\n",
    "    \"settings\": settings,\n",
    "    \"mappings\": mappings\n",
    "}\n",
    "\n",
    "response = client_elastic.options(ignore_status=[400]).indices.create(\n",
    "    index=ELASTIC_INDEX_NAME,\n",
    "    body=MAPPING,\n",
    ")\n",
    "\n",
    "# Caricamento dei dati dal file JSON comuni\n",
    "with open(\"comuni.json\") as f:\n",
    "    comuni = json.load(f)\n",
    "\n",
    "# Buffer per indicizzazione batch (accumula i dati nel buffer per inviarli tutti insieme)\n",
    "BATCH = 100\n",
    "buffer = []\n",
    "\n",
    "for index, comune in enumerate(tqdm(comuni)):\n",
    "    doc = {\n",
    "        \"_index\": ELASTIC_INDEX_NAME,\n",
    "        \"_source\": comune\n",
    "    }\n",
    "    buffer.append(doc)\n",
    "    \n",
    "    if len(buffer) >= BATCH:\n",
    "        bulk(client_elastic, buffer)\n",
    "        buffer = []\n",
    "\n",
    "if len(buffer) > 0:\n",
    "    bulk(client_elastic, buffer)\n",
    "\n",
    "print(\"Data indexed successfully\")"
   ]
  },
  {
   "cell_type": "markdown",
   "id": "9f8136d9",
   "metadata": {},
   "source": [
    "### Test Scrittura e Lettura"
   ]
  },
  {
   "cell_type": "code",
   "execution_count": 4,
   "id": "d05fdf91-283e-4dc6-9057-cd2adc59eec4",
   "metadata": {},
   "outputs": [],
   "source": [
    "# Funzione per parse_response (per future query)\n",
    "def parse_response(response):\n",
    "    if 'hits' in response and 'hits' in response['hits']:\n",
    "        for result in response['hits']['hits']:\n",
    "            print(result['_source'])"
   ]
  },
  {
   "cell_type": "code",
   "execution_count": 5,
   "id": "831f61bb-b7dd-496a-848e-b7ced2f2e194",
   "metadata": {},
   "outputs": [
    {
     "name": "stdout",
     "output_type": "stream",
     "text": [
      "{'nome': 'Druento', 'codice': '001099', 'zona': {'codice': '1', 'nome': 'Nord-ovest'}, 'regione': {'codice': '01', 'nome': 'Piemonte'}, 'provincia': {'codice': '001', 'nome': 'Torino'}, 'sigla': 'TO', 'codiceCatastale': 'D373', 'cap': ['10040'], 'popolazione': 8436}\n",
      "{'nome': 'Cossato', 'codice': '096020', 'zona': {'codice': '1', 'nome': 'Nord-ovest'}, 'regione': {'codice': '01', 'nome': 'Piemonte'}, 'provincia': {'codice': '096', 'nome': 'Biella'}, 'sigla': 'BI', 'codiceCatastale': 'D094', 'cap': ['13836'], 'popolazione': 14810}\n",
      "{'nome': 'Dualchi', 'codice': '091018', 'zona': {'codice': '5', 'nome': 'Isole'}, 'regione': {'codice': '20', 'nome': 'Sardegna'}, 'provincia': {'codice': '091', 'nome': 'Nuoro'}, 'sigla': 'NU', 'codiceCatastale': 'D376', 'cap': ['08010'], 'popolazione': 668}\n",
      "{'nome': 'Cossignano', 'codice': '044016', 'zona': {'codice': '3', 'nome': 'Centro'}, 'regione': {'codice': '11', 'nome': 'Marche'}, 'provincia': {'codice': '044', 'nome': 'Ascoli Piceno'}, 'sigla': 'AP', 'codiceCatastale': 'D096', 'cap': ['63067'], 'popolazione': 1015}\n",
      "{'nome': 'Due Carrare', 'codice': '028106', 'zona': {'codice': '2', 'nome': 'Nord-est'}, 'regione': {'codice': '05', 'nome': 'Veneto'}, 'provincia': {'codice': '028', 'nome': 'Padova'}, 'sigla': 'PD', 'codiceCatastale': 'M300', 'cap': ['35020'], 'popolazione': 8943}\n",
      "{'nome': 'Cossoine', 'codice': '090027', 'zona': {'codice': '5', 'nome': 'Isole'}, 'regione': {'codice': '20', 'nome': 'Sardegna'}, 'provincia': {'codice': '090', 'nome': 'Sassari'}, 'sigla': 'SS', 'codiceCatastale': 'D100', 'cap': ['07010'], 'popolazione': 900}\n",
      "{'nome': 'Dueville', 'codice': '024038', 'zona': {'codice': '2', 'nome': 'Nord-est'}, 'regione': {'codice': '05', 'nome': 'Veneto'}, 'provincia': {'codice': '024', 'nome': 'Vicenza'}, 'sigla': 'VI', 'codiceCatastale': 'D379', 'cap': ['36031'], 'popolazione': 13888}\n",
      "{'nome': 'Cossombrato', 'codice': '005049', 'zona': {'codice': '1', 'nome': 'Nord-ovest'}, 'regione': {'codice': '01', 'nome': 'Piemonte'}, 'provincia': {'codice': '005', 'nome': 'Asti'}, 'sigla': 'AT', 'codiceCatastale': 'D101', 'cap': ['14020'], 'popolazione': 541}\n",
      "{'nome': 'Duino Aurisina', 'codice': '032001', 'zona': {'codice': '2', 'nome': 'Nord-est'}, 'regione': {'codice': '06', 'nome': 'Friuli-Venezia Giulia'}, 'provincia': {'codice': '032', 'nome': 'Trieste'}, 'sigla': 'TS', 'codiceCatastale': 'D383', 'cap': ['34011'], 'popolazione': 8586}\n",
      "{'nome': 'Dumenza', 'codice': '012065', 'zona': {'codice': '1', 'nome': 'Nord-ovest'}, 'regione': {'codice': '03', 'nome': 'Lombardia'}, 'provincia': {'codice': '012', 'nome': 'Varese'}, 'sigla': 'VA', 'codiceCatastale': 'D384', 'cap': ['21010'], 'popolazione': 1433}\n"
     ]
    }
   ],
   "source": [
    "# Esempio query di ricerca\n",
    "response = client_elastic.search(\n",
    "    index=ELASTIC_INDEX_NAME,\n",
    "    body={\n",
    "        \"query\": {\n",
    "            \"match_all\": {}\n",
    "        }\n",
    "    }\n",
    ")\n",
    "\n",
    "# Utilizzare la funzione parse_response per processare i risultati\n",
    "parse_response(response)"
   ]
  },
  {
   "cell_type": "markdown",
   "id": "d764853f",
   "metadata": {},
   "source": [
    "### Scrittura e lettura massiva"
   ]
  },
  {
   "cell_type": "code",
   "execution_count": 6,
   "id": "2402d6fa-a96f-4e60-87f7-adbd9bd2b20b",
   "metadata": {},
   "outputs": [
    {
     "name": "stdout",
     "output_type": "stream",
     "text": [
      "Connected to Elasticsearch\n",
      "Stress test completed successfully\n"
     ]
    }
   ],
   "source": [
    "# Stress test write (write massive)\n",
    "import threading\n",
    "from elasticsearch import Elasticsearch\n",
    "from elasticsearch.helpers import bulk\n",
    "from tqdm import tqdm\n",
    "import json\n",
    "\n",
    "# Funzione di indicizzazione batch\n",
    "def index_data(client, data, batch_size=100):\n",
    "    buffer = []\n",
    "    for comune in data:\n",
    "        doc = {\n",
    "            \"_index\": ELASTIC_INDEX_NAME,\n",
    "            \"_source\": comune\n",
    "        }\n",
    "        buffer.append(doc)\n",
    "        \n",
    "        if len(buffer) >= batch_size:\n",
    "            bulk(client, buffer)\n",
    "            buffer = []\n",
    "\n",
    "    if len(buffer) > 0:\n",
    "        bulk(client, buffer)\n",
    "\n",
    "# Funzione per simulare il carico\n",
    "def stress_test(client, data, repetitions=5, batch_size=100):\n",
    "    threads = []\n",
    "    for _ in range(repetitions):\n",
    "        thread = threading.Thread(target=index_data, args=(client, data, batch_size))\n",
    "        threads.append(thread)\n",
    "        thread.start()\n",
    "    \n",
    "    for thread in threads:\n",
    "        thread.join()\n",
    "\n",
    "# Verifica della connessione\n",
    "if not client_elastic.ping():\n",
    "    raise ValueError(\"Connection to Elasticsearch failed\")\n",
    "else:\n",
    "    print(\"Connected to Elasticsearch\")\n",
    "\n",
    "# Creazione dell'indice (come da codice originale)\n",
    "client_elastic.options(ignore_status=[400]).indices.create(\n",
    "    index=ELASTIC_INDEX_NAME,\n",
    "    body=MAPPING\n",
    ")\n",
    "\n",
    "# Caricamento dei dati dal file JSON\n",
    "with open(\"comuni.json\") as f:\n",
    "    comuni = json.load(f)\n",
    "\n",
    "# Esecuzione del test di carico\n",
    "stress_test(client_elastic, comuni, repetitions=10, batch_size=100)\n",
    "\n",
    "print(\"Stress test completed successfully\")"
   ]
  },
  {
   "cell_type": "code",
   "execution_count": 7,
   "id": "9b38aadb-4420-4f64-93b0-9ecf65d746d1",
   "metadata": {},
   "outputs": [
    {
     "name": "stdout",
     "output_type": "stream",
     "text": [
      "Executed 1000 searches in 5.066514253616333 seconds\n"
     ]
    }
   ],
   "source": [
    "#Stress test read (read massive)\n",
    "from time import time\n",
    "\n",
    "def search_test(client, index, query, repetitions=1000):\n",
    "    start_time = time()\n",
    "    for _ in range(repetitions):\n",
    "        client.search(index=index, body=query)\n",
    "    end_time = time()\n",
    "    print(f\"Executed {repetitions} searches in {end_time - start_time} seconds\")\n",
    "\n",
    "# Esempio di query di ricerca\n",
    "query = {\n",
    "    \"query\": {\n",
    "        \"match_all\": {}\n",
    "    }\n",
    "}\n",
    "\n",
    "# Esecuzione del test di ricerca\n",
    "search_test(client_elastic, ELASTIC_INDEX_NAME, query)"
   ]
  },
  {
   "cell_type": "code",
   "execution_count": 8,
   "id": "466e2ca8-ecbc-4e2a-959b-990e212c675e",
   "metadata": {},
   "outputs": [
    {
     "name": "stdout",
     "output_type": "stream",
     "text": [
      "{'cluster_name': 'docker-cluster', 'status': 'green', 'timed_out': False, 'number_of_nodes': 1, 'number_of_data_nodes': 1, 'active_primary_shards': 10, 'active_shards': 10, 'relocating_shards': 0, 'initializing_shards': 0, 'unassigned_shards': 0, 'delayed_unassigned_shards': 0, 'number_of_pending_tasks': 0, 'number_of_in_flight_fetch': 0, 'task_max_waiting_in_queue_millis': 0, 'active_shards_percent_as_number': 100.0}\n"
     ]
    }
   ],
   "source": [
    "#info sul cluster \n",
    "cluster_health = client_elastic.cluster.health()\n",
    "print(cluster_health)"
   ]
  }
 ],
 "metadata": {
  "kernelspec": {
   "display_name": "Python 3 (ipykernel)",
   "language": "python",
   "name": "python3"
  },
  "language_info": {
   "codemirror_mode": {
    "name": "ipython",
    "version": 3
   },
   "file_extension": ".py",
   "mimetype": "text/x-python",
   "name": "python",
   "nbconvert_exporter": "python",
   "pygments_lexer": "ipython3",
   "version": "3.11.6"
  }
 },
 "nbformat": 4,
 "nbformat_minor": 5
}
